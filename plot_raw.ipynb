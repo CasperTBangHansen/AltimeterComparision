{
 "cells": [
  {
   "cell_type": "code",
   "execution_count": 5,
   "metadata": {},
   "outputs": [],
   "source": [
    "import xarray as xr\n",
    "from pathlib import Path\n",
    "from datetime import timedelta, date\n",
    "import plotting as pl\n",
    "import matplotlib.pyplot as plt\n",
    "import cartopy.crs as ccrs\n",
    "from collections import defaultdict"
   ]
  },
  {
   "cell_type": "code",
   "execution_count": 39,
   "metadata": {},
   "outputs": [],
   "source": [
    "start_time = date(1995, 3, 20)\n",
    "n_days = 6\n",
    "\n",
    "base = Path(r\"C:\\Users\\Casper\\Desktop\\Processed_v5\")\n",
    "files = [base / pl.date_to_processed(start_time + timedelta(day)) for day in range(-n_days, n_days+1)]\n",
    "raw = xr.open_mfdataset(files, concat_dim='time', combine='nested', ).load()"
   ]
  },
  {
   "cell_type": "code",
   "execution_count": 40,
   "metadata": {},
   "outputs": [],
   "source": [
    "attrs = defaultdict(list)\n",
    "for file in files:\n",
    "    for key, value in xr.open_dataset(file).attrs.items():\n",
    "        attrs[key].append(value)"
   ]
  },
  {
   "cell_type": "code",
   "execution_count": 41,
   "metadata": {},
   "outputs": [
    {
     "data": {
      "text/plain": [
       "['TOPEX',\n",
       " 'TOPEX',\n",
       " 'TOPEX',\n",
       " 'TOPEX',\n",
       " ['TOPEX', 'ERS-1'],\n",
       " ['TOPEX', 'ERS-1'],\n",
       " ['TOPEX', 'ERS-1'],\n",
       " ['TOPEX', 'ERS-1'],\n",
       " 'TOPEX',\n",
       " 'TOPEX',\n",
       " ['TOPEX', 'ERS-1'],\n",
       " ['TOPEX', 'ERS-1'],\n",
       " ['TOPEX', 'ERS-1']]"
      ]
     },
     "execution_count": 41,
     "metadata": {},
     "output_type": "execute_result"
    }
   ],
   "source": [
    "attrs['mission_name']"
   ]
  },
  {
   "cell_type": "code",
   "execution_count": 42,
   "metadata": {},
   "outputs": [],
   "source": [
    "vmin = -0.7\n",
    "vmax = 0.7\n",
    "ticksize = 20\n",
    "fontsize = 20\n",
    "size = 0.01\n",
    "cmap = 'jet'\n",
    "title = f\"Input data for the gridding pipeline\\n({start_time}) using {n_days} number of days\"\n",
    "cbar_label = \"sla\"\n",
    "\n",
    "\n",
    "fig, ax = plt.subplots(1, 1, figsize=(13, 6), subplot_kw=dict(projection=ccrs.PlateCarree()))\n",
    "im = ax.scatter(raw.lon.values, raw.lat.values, s=size, c=raw.sla.values, vmin=vmin, vmax=vmax, cmap=cmap)\n",
    "cbar = plt.colorbar(im, ax=ax)\n",
    "cbar.set_label(cbar_label, fontsize=fontsize)\n",
    "cbar.ax.tick_params(labelsize=ticksize)\n",
    "\n",
    "ax.coastlines()\n",
    "ax.set_extent([-180, 180, -90, 90], crs=ccrs.PlateCarree())\n",
    "ax.set_xticks([-180,-120, -60, 0, 60, 120, 180], crs=ccrs.PlateCarree())\n",
    "ax.set_yticks([-90, -60, -30, 0, 30, 60, 90], crs=ccrs.PlateCarree())\n",
    "ax.set_xlabel(f\"Longitude [\\N{DEGREE SIGN}]\", fontsize=fontsize)\n",
    "ax.set_ylabel(f\"Latitude [\\N{DEGREE SIGN}]\", fontsize=fontsize)\n",
    "ax.tick_params(axis='both', which='major', labelsize=ticksize)\n",
    "ax.tick_params(axis='both', which='minor', labelsize=ticksize)\n",
    "\n",
    "if title is not None:\n",
    "    ax.set_title(title, fontsize=fontsize)\n",
    "\n",
    "plt.savefig(Path(\"Raw\", f\"{start_time}_nd_{n_days}.png\"), format='png')\n",
    "plt.close()\n"
   ]
  },
  {
   "cell_type": "code",
   "execution_count": null,
   "metadata": {},
   "outputs": [],
   "source": []
  }
 ],
 "metadata": {
  "kernelspec": {
   "display_name": "Python 3",
   "language": "python",
   "name": "python3"
  },
  "language_info": {
   "codemirror_mode": {
    "name": "ipython",
    "version": 3
   },
   "file_extension": ".py",
   "mimetype": "text/x-python",
   "name": "python",
   "nbconvert_exporter": "python",
   "pygments_lexer": "ipython3",
   "version": "3.10.5"
  },
  "orig_nbformat": 4
 },
 "nbformat": 4,
 "nbformat_minor": 2
}
