{
 "cells": [
  {
   "cell_type": "code",
   "execution_count": 1,
   "metadata": {},
   "outputs": [],
   "source": [
    "import xarray as xr\n",
    "from pathlib import Path\n",
    "from typing import List, Dict, Tuple, NamedTuple, Iterable, Hashable\n",
    "from datetime import date, timedelta\n",
    "import matplotlib.pyplot as plt\n",
    "import numpy.typing as npt\n",
    "import numpy as np\n",
    "import cartopy.crs as ccrs\n",
    "from tqdm import tqdm\n",
    "from plotting import date_to_processed, processed_to_date, make_png"
   ]
  },
  {
   "cell_type": "code",
   "execution_count": 2,
   "metadata": {},
   "outputs": [],
   "source": [
    "folders = [\n",
    "    Path(r\"C:\\Users\\Casper\\OneDrive - Danmarks Tekniske Universitet\\SKOLE\\Kandidat\\Syntese\\ProcessedGrids\\Processed_v4_v10\"),\n",
    "    Path(r\"C:\\Users\\Casper\\OneDrive - Danmarks Tekniske Universitet\\SKOLE\\Kandidat\\Syntese\\ProcessedGrids\\Processed_v5_v01\"),\n",
    "    Path(r\"C:\\Users\\Casper\\OneDrive - Danmarks Tekniske Universitet\\SKOLE\\Kandidat\\Syntese\\ProcessedGrids\\v1\"),\n",
    "    Path(r\"C:\\Users\\Casper\\OneDrive - Danmarks Tekniske Universitet\\SKOLE\\Kandidat\\Syntese\\ProcessedGrids\\v2\"),\n",
    "    Path(r\"C:\\Users\\Casper\\OneDrive - Danmarks Tekniske Universitet\\SKOLE\\Kandidat\\Syntese\\ProcessedGrids\\v3\"),\n",
    "    Path(r\"C:\\Users\\Casper\\OneDrive - Danmarks Tekniske Universitet\\SKOLE\\Kandidat\\Syntese\\ProcessedGrids\\v5\"),\n",
    "    Path(r\"C:\\Users\\Casper\\OneDrive - Danmarks Tekniske Universitet\\SKOLE\\Kandidat\\Syntese\\ProcessedGrids\\v6\"),\n",
    "    Path(r\"C:\\Users\\Casper\\OneDrive - Danmarks Tekniske Universitet\\SKOLE\\Kandidat\\Syntese\\ProcessedGrids\\v7\"),\n",
    "    Path(r\"C:\\Users\\Casper\\OneDrive - Danmarks Tekniske Universitet\\SKOLE\\Kandidat\\Syntese\\ProcessedGrids\\v8\"),\n",
    "    Path(r\"C:\\Users\\Casper\\OneDrive - Danmarks Tekniske Universitet\\SKOLE\\Kandidat\\Syntese\\ProcessedGrids\\v9\"),\n",
    "]\n",
    "\n",
    "choosen_date = date(2019, 1, 2)\n",
    "tds = [0.1, 1, 0.05, 0.005, 0.0005, 0.00005, 5, 0.5, 2, 20]"
   ]
  },
  {
   "cell_type": "code",
   "execution_count": 3,
   "metadata": {},
   "outputs": [],
   "source": [
    "base = Path(r\"C:\\Users\\Casper\\OneDrive - Danmarks Tekniske Universitet\\SKOLE\\Kandidat\\Syntese\\ProcessedGrids\\Processed_v4_v10\")\n",
    "dates = [base / date_to_processed(date(2019,1,2) - timedelta(i)) for i in range(-5,6)]"
   ]
  },
  {
   "cell_type": "code",
   "execution_count": 6,
   "metadata": {},
   "outputs": [],
   "source": [
    "features = ['sla', 'wind_speed', 'sst', 'swh']\n",
    "mults = [100, 1, 1, 1]\n",
    "units = [\"cm\", \"m/s\", f\"\\N{DEGREE SIGN}C\", \"m\"]\n",
    "cbars = [(-75, 75), (-1, 15), (-1, 30), (0, 6)]\n",
    "output_folder = Path(\"Grids\")\n",
    "\n",
    "for feature, unit, cbar, mult in zip(features, units, cbars, mults):\n",
    "    (output_folder / feature).mkdir(parents=True, exist_ok=True)\n",
    "    for td, folder in zip(tds, folders):\n",
    "        file = folder / date_to_processed(choosen_date)\n",
    "        image = xr.open_dataset(file, engine='netcdf4')\n",
    "        if feature not in list(image.data_vars):\n",
    "            continue\n",
    "        make_png(\n",
    "            image = image[feature] * mult,\n",
    "            figsize = (13, 6),\n",
    "            output_path = output_folder / feature / f\"{feature}_{file.name.replace('.nc', '')}_{td*100000:.0f}.png\",\n",
    "            extent = [-180, 180, -90, 90],\n",
    "            vmin = cbar[0],\n",
    "            vmax = cbar[1],\n",
    "            title = f\"{processed_to_date(file)} - Time weighting = {td}\",\n",
    "            cbar_label = f\"{feature.upper()} [{unit}]\",\n",
    "            fontsize = 17,\n",
    "            ticksize = 15,\n",
    "            titlesize = 20\n",
    "        )"
   ]
  }
 ],
 "metadata": {
  "kernelspec": {
   "display_name": "Python 3",
   "language": "python",
   "name": "python3"
  },
  "language_info": {
   "codemirror_mode": {
    "name": "ipython",
    "version": 3
   },
   "file_extension": ".py",
   "mimetype": "text/x-python",
   "name": "python",
   "nbconvert_exporter": "python",
   "pygments_lexer": "ipython3",
   "version": "3.10.5"
  },
  "orig_nbformat": 4
 },
 "nbformat": 4,
 "nbformat_minor": 2
}
